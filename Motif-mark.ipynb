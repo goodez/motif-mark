{
 "cells": [
  {
   "cell_type": "code",
   "execution_count": 98,
   "metadata": {},
   "outputs": [],
   "source": [
    "#!/usr/bin/env python3\n",
    "\n",
    "import argparse\n",
    "#import cairo\n",
    "import re\n",
    "\n",
    "# parser = argparse.ArgumentParser()\n",
    "# parser.add_argument(\"-f\", \"--filename\", required=True, help='Fasta file containing \\\n",
    "# single exons (capital) and flanking introns (lower-case)')\n",
    "# parser.add_argument(\"-m\", \"--motifs\", required=True, help='A file containing \\\n",
    "# query motifs (must be one sequence per line)')\n",
    "# args = parser.parse_args()\n",
    "        \n",
    "\n",
    "#Dictionaries to translate between regex and sequence\n",
    "regex = {'A':'[Aa]','T':'[TtUu]','G':'[Gg]','C':'[Cc]','U':'[TtUu]',\n",
    "        'W':'[AaTtUu]','S':'[GgCc]','M':'[AaCc]','K':'[GgTtUu]','R':'[AaGg]','Y':'[CcTtUu]',\n",
    "        'B':'[CcGgTtUu]','D':'[AaGgTtUu]','H':'[AaCcTtUu]','V':'[AaCcGg]',\n",
    "        'N':'[GgCcAaTtUu]'}\n",
    "\n",
    "rev_regex = {'Gg':'G','Cc':'C','Aa':'A','TtUu':'T',\n",
    "            'AaTtUu':'W','GgCc':'S','AaCc':'M','GgTtUu':'K','AaGg':'R','CcTtUu':'Y',\n",
    "            'CcGgTtUu':'B','AaGgTtUu':'D','AaCcTtUu':'H','AaCcGg':'V',\n",
    "            'GgCcAaTtUu':'N'}"
   ]
  },
  {
   "cell_type": "code",
   "execution_count": 99,
   "metadata": {},
   "outputs": [],
   "source": [
    "# Convert input motifs to regex\n",
    "with open(\"motifs.txt\", 'r') as fh:\n",
    "    regex_motifs=[] # create empty list to output converted motifs\n",
    "    for line in fh:\n",
    "        regex_motif=''\n",
    "        motif=line.strip().upper()\n",
    "        for each in motif:\n",
    "            regex_motif+=regex[each]\n",
    "        regex_motifs.append(regex_motif)"
   ]
  },
  {
   "cell_type": "code",
   "execution_count": 100,
   "metadata": {},
   "outputs": [],
   "source": [
    "# Dict to store gene lengths and exon position\n",
    "genes_index={}\n",
    "\n",
    "# Dict to store motif positions\n",
    "motifs_index={}\n",
    "\n",
    "def main_coords(sequence):\n",
    "    \"\"\"Input single fasta sequence containing capital EXON region.\n",
    "    Outputs list of [gene length, exon position, exon length].\"\"\"\n",
    "    gene_len = len(seq)\n",
    "    exon = re.search('[A-Z]',sequence)\n",
    "    exon_start = exon.start()\n",
    "    # Trim off upstream intron\n",
    "    sequence = sequence[exon_start:]\n",
    "    exon = re.search('[a-z]',sequence)\n",
    "    exon_len = exon.start()\n",
    "    out = [gene_len, exon_start, exon_len]\n",
    "    return out\n",
    "\n",
    "def motif_coords(sequence):\n",
    "    \"\"\"Input single fasta sequence containing capital EXON region.\n",
    "    Save positions of desired motifs.\"\"\"\n",
    "    out=[]\n",
    "    for motif in regex_motifs:\n",
    "        mot = re.finditer(motif,sequence)\n",
    "        for i in mot:\n",
    "            out.append(i.start())\n",
    "    return out\n",
    "        \n",
    "    "
   ]
  },
  {
   "cell_type": "code",
   "execution_count": 105,
   "metadata": {},
   "outputs": [
    {
     "name": "stdout",
     "output_type": "stream",
     "text": [
      "{'INSR chr19:7149896-7151209 (reverse complement)': [858, 317, 36], 'MBNL chr3:152432504-152433226 (reverse complement)': [723, 306, 204], 'ADD3 chr10:111891895-111892326': [432, 168, 96]}\n",
      "{'INSR chr19:7149896-7151209 (reverse complement)': [7, 130, 147, 217, 338, 379, 383, 406, 417, 470, 484, 508, 571, 595, 617, 641, 725, 825, 451, 452, 534], 'MBNL chr3:152432504-152433226 (reverse complement)': [17, 414, 465], 'ADD3 chr10:111891895-111892326': [37, 49, 117, 169, 196, 428, 135, 34, 136]}\n"
     ]
    }
   ],
   "source": [
    "# Main loop\n",
    "with open('sequence.txt','r') as fasta:\n",
    "    NR=0 #counts lines\n",
    "    for line in fasta:\n",
    "        NR+=1\n",
    "        # Save first header line\n",
    "        if NR == 1:\n",
    "            header=line.strip()\n",
    "            seq=''\n",
    "        # Save sequence\n",
    "        elif line.startswith('>') == False:\n",
    "            # Combines sequence lines if there are new line characters\n",
    "            seq=seq+line.strip()\n",
    "        # Save important info below\n",
    "        elif line.startswith('>'):\n",
    "            genes_index[header[1:]] = main_coords(seq)\n",
    "            motifs_index[header[1:]] = motif_coords(seq)\n",
    "            # Save next header and empty seq\n",
    "            header=line.strip()\n",
    "            seq=''\n",
    "            \n",
    "    # Final fasta record saved below\n",
    "    genes_index[header[1:]] = main_coords(seq)\n",
    "    motifs_index[header[1:]] = motif_coords(seq)\n",
    "\n",
    "print(genes_index)\n",
    "print(motifs_index)"
   ]
  },
  {
   "cell_type": "code",
   "execution_count": null,
   "metadata": {
    "collapsed": true
   },
   "outputs": [],
   "source": []
  }
 ],
 "metadata": {
  "kernelspec": {
   "display_name": "Python 3",
   "language": "python",
   "name": "python3"
  },
  "language_info": {
   "codemirror_mode": {
    "name": "ipython",
    "version": 3
   },
   "file_extension": ".py",
   "mimetype": "text/x-python",
   "name": "python",
   "nbconvert_exporter": "python",
   "pygments_lexer": "ipython3",
   "version": "3.6.3"
  }
 },
 "nbformat": 4,
 "nbformat_minor": 2
}
